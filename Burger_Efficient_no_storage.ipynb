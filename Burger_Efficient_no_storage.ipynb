{
 "cells": [
  {
   "cell_type": "code",
   "execution_count": 48,
   "metadata": {},
   "outputs": [],
   "source": [
    "import numpy as np\n",
    "def jump(x, alpha=0, beta=0.5):\n",
    "    one = lambda x: 1\n",
    "    return np.where((x<beta) & (x>=alpha), one(x), 0.)"
   ]
  },
  {
   "cell_type": "code",
   "execution_count": 51,
   "metadata": {},
   "outputs": [],
   "source": [
    "def picard_method(X, nx, nt, Tfinal, mu, theta):\n",
    "    \"\"\"theta picard method\"\"\"\n",
    "    ### Parameters ###\n",
    "    dx = (1-0)/(nx-1) \n",
    "    dt = (Tfinal-0)/(nt-1)\n",
    "    C = 1*dt/(2*dx)\n",
    "    D = mu*dt/(dx**2)\n",
    "    \n",
    "    ### Stability conditions ###\n",
    "    if theta<0.5:\n",
    "        a_1 = dx**2/(2*mu*(1-2*theta))\n",
    "        a_2 = 2*mu/((1-2*theta))\n",
    "        if dt>a_1:\n",
    "            print(\"theta=\",theta)\n",
    "            print(\"error timestep too big\")\n",
    "            print(\"dt=\",dt,\"a_1=\",a_1)    \n",
    "        if dt>a_2:\n",
    "            print(\"theta=\",theta)\n",
    "            print(\"error timestep too big\")\n",
    "            print(\"dt=\",dt,\"a_2=\",a_2)\n",
    "    \n",
    "    ### warning ###\n",
    "    if theta > 0:\n",
    "        print(\"Warning, solving approximation to burgers\")\n",
    "    if theta == 0: \n",
    "        print(\"warning, inverting matrix unnessicarily\")\n",
    "    ### Initialise structure ###\n",
    "    beta = np.zeros([nx])\n",
    "    A = np.zeros([nx,nx])\n",
    "\n",
    "    if theta >0:\n",
    "        for i in range(0,nt-1):###time stepping###\n",
    "        \n",
    "            for j in range(0,nx): ### create vector on RHS###\n",
    "                beta[j] = X[i,j]\\\n",
    "                - C*(1-theta)*X[i,j]*(X[i,(j+1)%nx] - X[i,(j-1)%nx])\\\n",
    "                + (D)*(1-theta)*(X[i,(j-1)%nx]-2*X[i,j]+X[i,(j+1)%nx])\n",
    "        \n",
    "            for p in range(0,nx): ### Create Matrix on LHS ###\n",
    "                A[p,(p+1)%nx] =  theta*C*X[i,p] - theta*D # b \n",
    "                A[p,(p-1)%nx] = -theta*C*X[i,p] - theta*D  #c  \n",
    "                A[p,p] = 1 + 2*theta*D\n",
    "        \n",
    "            X[i+1,:] = scipy.linalg.solve(A, beta)### Solving for next timestep ###\n",
    "    if theta == 0: ## to avoid inverting a identity matrix pointlessly.\n",
    "        for i in range(0,nt-1):###time stepping###\n",
    "            for j in range(0,nx): ### create vector on RHS###\n",
    "                beta[j] = X[i,j]\\\n",
    "                - C*(1-theta)*X[i,j]*(X[i,(j+1)%nx] - X[i,(j-1)%nx])\\\n",
    "                + (D)*(1-theta)*(X[i,(j-1)%nx]-2*X[i,j]+X[i,(j+1)%nx])\n",
    "\n",
    "            X[i+1,:] = beta ### Solving for next timestep ###\n",
    "    return X"
   ]
  },
  {
   "cell_type": "code",
   "execution_count": 52,
   "metadata": {},
   "outputs": [],
   "source": [
    "def conservative_ftcs_method(X, nx, nt, Tfinal, mu):\n",
    "\n",
    "    ## Parameters\n",
    "    dx = (1-0)/(nx-1) \n",
    "    dt = (Tfinal-0)/(nt-1)\n",
    "    C = 1*dt/(2*dx)\n",
    "    D = mu*dt/(dx**2)\n",
    "    a_1 = dx**2/(2*mu)\n",
    "    a_2 = 2*mu/(1**2)\n",
    "    \n",
    "    \n",
    "### needs stability criterion ###\n",
    "### I am yet to do any but lax wendroff only useful for explicit case###\n",
    "### when theta = 0 ###\n",
    "    beta = np.zeros([nx])\n",
    "    A = np.zeros([nx,nx])\n",
    "    for i in range(0,nt-1):\n",
    "        \n",
    "        for j in range(0,nx): \n",
    "            beta[j] = X[i,j]\\\n",
    "            - C*0.5*(1)*(X[i,(j+1)%nx]**2 - X[i,(j-1)%nx]**2)\\\n",
    "            + (D)*(1)*(X[i,(j-1)%nx]-2*X[i,j]+X[i,(j+1)%nx])\n",
    "    \n",
    "        X[i+1,:] = beta\n",
    "    return X"
   ]
  },
  {
   "cell_type": "code",
   "execution_count": 53,
   "metadata": {},
   "outputs": [],
   "source": [
    "import numpy as np\n",
    "import matplotlib.pyplot as plt\n",
    "from scipy import linalg\n",
    "from numpy.linalg import inv\n",
    "import scipy.sparse\n",
    "\n",
    "def newton_method(X, nx, nt, Tfinal, mu, theta):\n",
    "\n",
    "    ### derived parameters ###\n",
    "    dx = (1-0)/(nx-1) \n",
    "    dt = (Tfinal-0)/(nt-1)\n",
    "    C = 1*dt/(2*dx)\n",
    "    D = mu*dt/(dx**2)\n",
    "    \n",
    "    ##Creation of newton method structure \n",
    "    beta = np.zeros([nx])\n",
    "    w = np.zeros([nx])\n",
    "    dw = np.zeros([nx])\n",
    "\n",
    "    for i in range(0,nt-1):### time loop \n",
    "        \n",
    "        for j in range(0,nx): \n",
    "            w[j] = X[i,j] ### first initialise w^0 = phi^n as initial guess###\n",
    "                          ### this is the starting guess for newton method ###\n",
    "        \n",
    "        ### Construct the newton loop\n",
    "        tol = 10**(-13)## extreeme accuracy can be imposed\n",
    "        err  = 2*tol\n",
    "        while (err>tol): ### until convergence ###\n",
    "            \n",
    "            ### Create beta^k_j ###\n",
    "            for q in range(0,nx): \n",
    "                beta[q] = X[i,q] - C*(1-theta)*X[i,q]*(X[i,(q+1)%nx] - X[i,(q-1)%nx]) + (D)*(1-theta)*(X[i,(q-1)%nx]-2*X[i,q]+X[i,(q+1)%nx]) \\\n",
    "                -w[q] - C*theta*w[q]*(w[(q+1)%nx]-w[(q-1)%nx]) + D*theta*(w[(q+1)%nx]-2*w[q] +w[(q-1)%nx])\n",
    "            \n",
    "            ##Create A^k_j ###\n",
    "            A = np.zeros([nx,nx])\n",
    "            for p in range(1,nx):\n",
    "                A[p-1,p] = ((theta*C*w[p])-(theta*D)) # b\n",
    "            for p in range(0,nx-1):\n",
    "                A[p+1,p] = ((-theta*C*w[p+1])-(theta*D)) # c\n",
    "            for p in range(0,nx):\n",
    "                A[p,p] = (1+ 2*theta*D + C*theta*(w[(p+1)%nx]-w[(p-1)%nx]))\n",
    "            \n",
    "            \n",
    "            ## solving for dw\n",
    "            dw = scipy.linalg.solve(A, beta)\n",
    "            err = np.linalg.norm(dw,2)\n",
    "            ## improve the newton loop\n",
    "            w = w + dw \n",
    "            ## we have w^k\n",
    "            \n",
    "    \n",
    "        \n",
    "        for j in range(0,nx):\n",
    "            X[i+1,j] = w[j]\n",
    "\n",
    "\n",
    "    return X \n",
    "    \n",
    "\n"
   ]
  },
  {
   "cell_type": "code",
   "execution_count": 54,
   "metadata": {},
   "outputs": [],
   "source": [
    "import numpy as np\n",
    "import matplotlib.pyplot as plt\n",
    "from scipy import linalg\n",
    "from numpy.linalg import inv\n",
    "import scipy.sparse\n",
    "\n",
    "def conservative_newton_method(X, nx, nt, Tfinal, mu, theta):\n",
    "    ##derived constants\n",
    "    dx = (1-0)/(nx-1) ##\n",
    "    dt = (Tfinal-0)/(nt-1)\n",
    "    ## Parameters\n",
    "    C = 1*dt/(2*dx)\n",
    "    D = mu*dt/(dx**2)\n",
    "    ##\n",
    "\n",
    "    ##Construction of the vector per timestep ie beta note for inversion we only want the \n",
    "    beta = np.zeros([nx])\n",
    "    w = np.zeros([nx])\n",
    "    dw = np.zeros([nx])\n",
    "\n",
    "    for i in range(0,nt-1):### time loop \n",
    "        ## first initialise w^0 = phi^n\n",
    "        for j in range(0,nx): \n",
    "            w[j] = X[i,j]\n",
    "\n",
    "        ### Construct the newton loop\n",
    "        tol = 10**(-13) ### accuracy can be imposed ###\n",
    "        err  = 2*tol\n",
    "        while (err>tol): ## eventually replace with while loop and stopping criterion\n",
    "\n",
    "            ### Create beta^k ###\n",
    "            for q in range(0,nx): \n",
    "                beta[q] = X[i,q] - C*0.5*(1-theta)*(X[i,(q+1)%nx]**2 - X[i,(q-1)%nx]**2) \\\n",
    "                + (D)*(1-theta)*(X[i,(q-1)%nx]-2*X[i,q]+X[i,(q+1)%nx]) \\\n",
    "                -w[q] - C*0.5*theta*(w[(q+1)%nx]**2-w[(q-1)%nx]**2) \\\n",
    "                + D*theta*(w[(q+1)%nx]-2*w[q] +w[(q-1)%nx])\n",
    "            \n",
    "            ### Create A^k_j, tridiag ###\n",
    "            A = np.zeros([nx,nx])\n",
    "            for p in range(1,nx):\n",
    "                A[p-1,p] = ((theta*C*w[(p+1)%nx])-(theta*D)) # down zero across 1 = b\n",
    "            for p in range(0,nx-1):\n",
    "                A[p+1,p] = ((-theta*C*w[(p-1)%nx])-(theta*D)) # down 1 acros 0 = c\n",
    "            for p in range(0,nx):\n",
    "                A[p,p] = (1+ 2*theta*D + C*theta*(w[(p+1)%nx]-w[(p-1)%nx]))\n",
    "        \n",
    "            ## solving for dw\n",
    "            dw = scipy.linalg.solve(A, beta)\n",
    "            err = np.linalg.norm(dw,2)\n",
    "            ## improve the newton loop\n",
    "            w = w + dw \n",
    "            ## we have w^k\n",
    "            \n",
    "        \n",
    "        for j in range(0,nx):\n",
    "            X[i+1,j] = w[j]\n",
    "\n",
    "    return X \n",
    "    \n",
    "\n"
   ]
  },
  {
   "cell_type": "code",
   "execution_count": 55,
   "metadata": {},
   "outputs": [],
   "source": [
    "import numpy as np\n",
    "import math as math\n",
    "import matplotlib.pyplot as plt\n",
    "\n",
    "def SolveBurger(nx ,nt ,Tfinal ,mu, method, theta ):\n",
    "    \"\"\"SOLVES BURGERS EQUATION: u_t + u(u_x) - mu u_{xx} = 0 NUMERICALLY\n",
    "                                u_t + (u^2/2)_x - mu u_{xx} = 0 Conservative form\n",
    "       nx = number of space points\n",
    "       nt = number of time points \n",
    "       Tfinal = the final time  \n",
    "       mu = the viscosity in the burgers equation \n",
    "       \n",
    "       method = input:=  \"picard\" SOLVES APPROXIMATION TO BURGERS EQUATION\n",
    "                         \"newton\" SOLVES EXACT BURGERS EQUATION\n",
    "                         \"conservative_ftcs\" SOLVES CONSERVATIVE FORM USING EXPLICIT METHOD\n",
    "                         \"conservatice_newton\" SOLVES CONSERVATIVE FORM USING NEWTONS METHOD\n",
    "       theta = 1 is implicit,\n",
    "               0 is explicit \"\"\"\n",
    "    ##derived constants\n",
    "    x = np.linspace(0,1,nx)\n",
    "    dx = (1-0)/(nx-1) ##\n",
    "    t = np.linspace(0,Tfinal,nt)\n",
    "    dt = (Tfinal-0)/(nt-1)\n",
    "    c = 1*(dt/dx)\n",
    "    d = mu*(dt*1/(dx**2))\n",
    "    \n",
    "    ##**Creating the structure**## \n",
    "    X = np.zeros( [nt,nx] )##**Each row contains a timestep**##\n",
    "    \n",
    "    ### Initialisation of BC ###\n",
    "    X[0,:] = jump(x, 0.1, 0.3)\n",
    "\n",
    "### Timestepping the whole scheme \n",
    "    if method == \"newton\":\n",
    "        newton_method(X, nx, nt, Tfinal, mu, theta)\n",
    "    if method == \"picard\":\n",
    "        picard_method(X, nx, nt, Tfinal, mu, theta)\n",
    "    if method == \"conservative_ftcs\":\n",
    "        conservative_ftcs_method(X, nx, nt, Tfinal, mu)\n",
    "    if method == \"conservative_newton\":\n",
    "        conservative_newton_method(X, nx, nt, Tfinal, mu, theta)\n",
    " \n",
    "    return X\n",
    "\n",
    "def Plotting(X,nx,nt):\n",
    "### Extraction of time steps for plotting ###\n",
    "    x = np.linspace(0,1,nx)\n",
    "    y = X[0,:]\n",
    "    plt.plot(x,y,'r')\n",
    "    y = X[nt-1,:]\n",
    "    plt.plot(x, y,'b',linewidth=0.5)\n",
    "### not exactly user friendly ###"
   ]
  },
  {
   "cell_type": "code",
   "execution_count": 56,
   "metadata": {},
   "outputs": [
    {
     "name": "stdout",
     "output_type": "stream",
     "text": [
      "Help on function SolveBurger in module __main__:\n",
      "\n",
      "SolveBurger(nx, nt, Tfinal, mu, method, theta)\n",
      "    SOLVES BURGERS EQUATION: u_t + u(u_x) - mu u_{xx} = 0 NUMERICALLY\n",
      "                             u_t + (u^2/2)_x - mu u_{xx} = 0 Conservative form\n",
      "    nx = number of space points\n",
      "    nt = number of time points \n",
      "    Tfinal = the final time  \n",
      "    mu = the viscosity in the burgers equation \n",
      "    \n",
      "    method = input:=  \"picard\" SOLVES APPROXIMATION TO BURGERS EQUATION\n",
      "                      \"newton\" SOLVES EXACT BURGERS EQUATION\n",
      "                      \"conservative_ftcs\" SOLVES CONSERVATIVE FORM USING EXPLICIT METHOD\n",
      "                      \"conservatice_newton\" SOLVES CONSERVATIVE FORM USING NEWTONS METHOD\n",
      "    theta = 1 is implicit,\n",
      "            0 is explicit\n",
      "\n"
     ]
    }
   ],
   "source": [
    "# analytical solution ## incomplete\n",
    "### Do I need to compute against a analytical solution?\n",
    "help(SolveBurger)"
   ]
  },
  {
   "cell_type": "code",
   "execution_count": 57,
   "metadata": {},
   "outputs": [
    {
     "name": "stdout",
     "output_type": "stream",
     "text": [
      "Warning, solving approximation to burgers\n"
     ]
    },
    {
     "data": {
      "image/png": "[encoded data removed]",
      "text/plain": [
       "<Figure size 432x288 with 1 Axes>"
      ]
     },
     "metadata": {},
     "output_type": "display_data"
    }
   ],
   "source": [
    "X = SolveBurger(201,15,0.5,0.001,\"picard\",1)\n",
    "Plotting(X,201,15)\n",
    "## the scheme for theta=1 converges even for few large timesteps.\n",
    "## however the equation solved is inaccurate, it isnt the correct eqaution."
   ]
  },
  {
   "cell_type": "code",
   "execution_count": 58,
   "metadata": {},
   "outputs": [
    {
     "data": {
      "image/png": "[encoded data removed]",
      "text/plain": [
       "<Figure size 432x288 with 1 Axes>"
      ]
     },
     "metadata": {},
     "output_type": "display_data"
    }
   ],
   "source": [
    "X = SolveBurger(201,51,0.5,0.001,\"newton\",1)\n",
    "Plotting(X,201,51)\n",
    "## there is a timestep restriction independent of the timestep condition."
   ]
  },
  {
   "cell_type": "code",
   "execution_count": 59,
   "metadata": {},
   "outputs": [
    {
     "name": "stderr",
     "output_type": "stream",
     "text": [
      "/usr/local/lib/python3.7/site-packages/ipykernel_launcher.py:45: LinAlgWarning: scipy.linalg.solve\n",
      "Ill-conditioned matrix detected. Result is not guaranteed to be accurate.\n",
      "Reciprocal condition number4.000089e-24\n",
      "/usr/local/lib/python3.7/site-packages/ipykernel_launcher.py:45: LinAlgWarning: scipy.linalg.solve\n",
      "Ill-conditioned matrix detected. Result is not guaranteed to be accurate.\n",
      "Reciprocal condition number2.387466e-44\n",
      "/usr/local/lib/python3.7/site-packages/ipykernel_launcher.py:45: LinAlgWarning: scipy.linalg.solve\n",
      "Ill-conditioned matrix detected. Result is not guaranteed to be accurate.\n",
      "Reciprocal condition number7.472776e-64\n",
      "/usr/local/lib/python3.7/site-packages/ipykernel_launcher.py:45: LinAlgWarning: scipy.linalg.solve\n",
      "Ill-conditioned matrix detected. Result is not guaranteed to be accurate.\n",
      "Reciprocal condition number2.173169e-87\n",
      "/usr/local/lib/python3.7/site-packages/ipykernel_launcher.py:33: RuntimeWarning: overflow encountered in double_scalars\n",
      "/usr/local/lib/python3.7/site-packages/ipykernel_launcher.py:33: RuntimeWarning: invalid value encountered in double_scalars\n"
     ]
    },
    {
     "ename": "ValueError",
     "evalue": "array must not contain infs or NaNs",
     "output_type": "error",
     "traceback": [
      "\u001b[0;31m---------------------------------------------------------------------------\u001b[0m",
      "\u001b[0;31mValueError\u001b[0m                                Traceback (most recent call last)",
      "\u001b[0;32m<ipython-input-59-c45645d80645>\u001b[0m in \u001b[0;36m<module>\u001b[0;34m()\u001b[0m\n\u001b[1;32m      1\u001b[0m \u001b[0mX\u001b[0m \u001b[0;34m=\u001b[0m \u001b[0mSolveBurger\u001b[0m\u001b[0;34m(\u001b[0m\u001b[0;36m201\u001b[0m\u001b[0;34m,\u001b[0m\u001b[0;36m201\u001b[0m\u001b[0;34m,\u001b[0m\u001b[0;36m0.5\u001b[0m\u001b[0;34m,\u001b[0m\u001b[0;36m0.001\u001b[0m\u001b[0;34m,\u001b[0m\u001b[0;34m\"conservative_newton\"\u001b[0m\u001b[0;34m,\u001b[0m\u001b[0;36m0\u001b[0m\u001b[0;34m)\u001b[0m\u001b[0;34m\u001b[0m\u001b[0m\n\u001b[1;32m      2\u001b[0m \u001b[0mPlotting\u001b[0m\u001b[0;34m(\u001b[0m\u001b[0mX\u001b[0m\u001b[0;34m,\u001b[0m\u001b[0;36m201\u001b[0m\u001b[0;34m,\u001b[0m\u001b[0;36m201\u001b[0m\u001b[0;34m)\u001b[0m\u001b[0;34m\u001b[0m\u001b[0m\n\u001b[0;32m----> 3\u001b[0;31m \u001b[0mX\u001b[0m \u001b[0;34m=\u001b[0m \u001b[0mSolveBurger\u001b[0m\u001b[0;34m(\u001b[0m\u001b[0;36m201\u001b[0m\u001b[0;34m,\u001b[0m\u001b[0;36m51\u001b[0m\u001b[0;34m,\u001b[0m\u001b[0;36m0.5\u001b[0m\u001b[0;34m,\u001b[0m\u001b[0;36m0.001\u001b[0m\u001b[0;34m,\u001b[0m\u001b[0;34m\"conservative_newton\"\u001b[0m\u001b[0;34m,\u001b[0m\u001b[0;36m1\u001b[0m\u001b[0;34m)\u001b[0m\u001b[0;34m\u001b[0m\u001b[0m\n\u001b[0m\u001b[1;32m      4\u001b[0m \u001b[0mPlotting\u001b[0m\u001b[0;34m(\u001b[0m\u001b[0mX\u001b[0m\u001b[0;34m,\u001b[0m\u001b[0;36m201\u001b[0m\u001b[0;34m,\u001b[0m\u001b[0;36m51\u001b[0m\u001b[0;34m)\u001b[0m\u001b[0;34m\u001b[0m\u001b[0m\n\u001b[1;32m      5\u001b[0m \u001b[0;31m### the ball of convergence depends on the value of theta, fully implicit is the\u001b[0m\u001b[0;34m\u001b[0m\u001b[0;34m\u001b[0m\u001b[0m\n",
      "\u001b[0;32m<ipython-input-55-a6ae2b2cebf4>\u001b[0m in \u001b[0;36mSolveBurger\u001b[0;34m(nx, nt, Tfinal, mu, method, theta)\u001b[0m\n\u001b[1;32m     39\u001b[0m         \u001b[0mconservative_ftcs_method\u001b[0m\u001b[0;34m(\u001b[0m\u001b[0mX\u001b[0m\u001b[0;34m,\u001b[0m \u001b[0mnx\u001b[0m\u001b[0;34m,\u001b[0m \u001b[0mnt\u001b[0m\u001b[0;34m,\u001b[0m \u001b[0mTfinal\u001b[0m\u001b[0;34m,\u001b[0m \u001b[0mmu\u001b[0m\u001b[0;34m)\u001b[0m\u001b[0;34m\u001b[0m\u001b[0m\n\u001b[1;32m     40\u001b[0m     \u001b[0;32mif\u001b[0m \u001b[0mmethod\u001b[0m \u001b[0;34m==\u001b[0m \u001b[0;34m\"conservative_newton\"\u001b[0m\u001b[0;34m:\u001b[0m\u001b[0;34m\u001b[0m\u001b[0m\n\u001b[0;32m---> 41\u001b[0;31m         \u001b[0mconservative_newton_method\u001b[0m\u001b[0;34m(\u001b[0m\u001b[0mX\u001b[0m\u001b[0;34m,\u001b[0m \u001b[0mnx\u001b[0m\u001b[0;34m,\u001b[0m \u001b[0mnt\u001b[0m\u001b[0;34m,\u001b[0m \u001b[0mTfinal\u001b[0m\u001b[0;34m,\u001b[0m \u001b[0mmu\u001b[0m\u001b[0;34m,\u001b[0m \u001b[0mtheta\u001b[0m\u001b[0;34m)\u001b[0m\u001b[0;34m\u001b[0m\u001b[0m\n\u001b[0m\u001b[1;32m     42\u001b[0m \u001b[0;34m\u001b[0m\u001b[0m\n\u001b[1;32m     43\u001b[0m     \u001b[0;32mreturn\u001b[0m \u001b[0mX\u001b[0m\u001b[0;34m\u001b[0m\u001b[0m\n",
      "\u001b[0;32m<ipython-input-54-7434c9027197>\u001b[0m in \u001b[0;36mconservative_newton_method\u001b[0;34m(X, nx, nt, Tfinal, mu, theta)\u001b[0m\n\u001b[1;32m     43\u001b[0m \u001b[0;34m\u001b[0m\u001b[0m\n\u001b[1;32m     44\u001b[0m             \u001b[0;31m## solving for dw\u001b[0m\u001b[0;34m\u001b[0m\u001b[0;34m\u001b[0m\u001b[0m\n\u001b[0;32m---> 45\u001b[0;31m             \u001b[0mdw\u001b[0m \u001b[0;34m=\u001b[0m \u001b[0mscipy\u001b[0m\u001b[0;34m.\u001b[0m\u001b[0mlinalg\u001b[0m\u001b[0;34m.\u001b[0m\u001b[0msolve\u001b[0m\u001b[0;34m(\u001b[0m\u001b[0mA\u001b[0m\u001b[0;34m,\u001b[0m \u001b[0mbeta\u001b[0m\u001b[0;34m)\u001b[0m\u001b[0;34m\u001b[0m\u001b[0m\n\u001b[0m\u001b[1;32m     46\u001b[0m             \u001b[0merr\u001b[0m \u001b[0;34m=\u001b[0m \u001b[0mnp\u001b[0m\u001b[0;34m.\u001b[0m\u001b[0mlinalg\u001b[0m\u001b[0;34m.\u001b[0m\u001b[0mnorm\u001b[0m\u001b[0;34m(\u001b[0m\u001b[0mdw\u001b[0m\u001b[0;34m,\u001b[0m\u001b[0;36m2\u001b[0m\u001b[0;34m)\u001b[0m\u001b[0;34m\u001b[0m\u001b[0m\n\u001b[1;32m     47\u001b[0m             \u001b[0;31m## improve the newton loop\u001b[0m\u001b[0;34m\u001b[0m\u001b[0;34m\u001b[0m\u001b[0m\n",
      "\u001b[0;32m/usr/local/lib/python3.7/site-packages/scipy/linalg/basic.py\u001b[0m in \u001b[0;36msolve\u001b[0;34m(a, b, sym_pos, lower, overwrite_a, overwrite_b, debug, check_finite, assume_a, transposed)\u001b[0m\n\u001b[1;32m    138\u001b[0m \u001b[0;34m\u001b[0m\u001b[0m\n\u001b[1;32m    139\u001b[0m     \u001b[0ma1\u001b[0m \u001b[0;34m=\u001b[0m \u001b[0matleast_2d\u001b[0m\u001b[0;34m(\u001b[0m\u001b[0m_asarray_validated\u001b[0m\u001b[0;34m(\u001b[0m\u001b[0ma\u001b[0m\u001b[0;34m,\u001b[0m \u001b[0mcheck_finite\u001b[0m\u001b[0;34m=\u001b[0m\u001b[0mcheck_finite\u001b[0m\u001b[0;34m)\u001b[0m\u001b[0;34m)\u001b[0m\u001b[0;34m\u001b[0m\u001b[0m\n\u001b[0;32m--> 140\u001b[0;31m     \u001b[0mb1\u001b[0m \u001b[0;34m=\u001b[0m \u001b[0matleast_1d\u001b[0m\u001b[0;34m(\u001b[0m\u001b[0m_asarray_validated\u001b[0m\u001b[0;34m(\u001b[0m\u001b[0mb\u001b[0m\u001b[0;34m,\u001b[0m \u001b[0mcheck_finite\u001b[0m\u001b[0;34m=\u001b[0m\u001b[0mcheck_finite\u001b[0m\u001b[0;34m)\u001b[0m\u001b[0;34m)\u001b[0m\u001b[0;34m\u001b[0m\u001b[0m\n\u001b[0m\u001b[1;32m    141\u001b[0m     \u001b[0mn\u001b[0m \u001b[0;34m=\u001b[0m \u001b[0ma1\u001b[0m\u001b[0;34m.\u001b[0m\u001b[0mshape\u001b[0m\u001b[0;34m[\u001b[0m\u001b[0;36m0\u001b[0m\u001b[0;34m]\u001b[0m\u001b[0;34m\u001b[0m\u001b[0m\n\u001b[1;32m    142\u001b[0m \u001b[0;34m\u001b[0m\u001b[0m\n",
      "\u001b[0;32m/usr/local/lib/python3.7/site-packages/scipy/_lib/_util.py\u001b[0m in \u001b[0;36m_asarray_validated\u001b[0;34m(a, check_finite, sparse_ok, objects_ok, mask_ok, as_inexact)\u001b[0m\n\u001b[1;32m    236\u001b[0m             \u001b[0;32mraise\u001b[0m \u001b[0mValueError\u001b[0m\u001b[0;34m(\u001b[0m\u001b[0;34m'masked arrays are not supported'\u001b[0m\u001b[0;34m)\u001b[0m\u001b[0;34m\u001b[0m\u001b[0m\n\u001b[1;32m    237\u001b[0m     \u001b[0mtoarray\u001b[0m \u001b[0;34m=\u001b[0m \u001b[0mnp\u001b[0m\u001b[0;34m.\u001b[0m\u001b[0masarray_chkfinite\u001b[0m \u001b[0;32mif\u001b[0m \u001b[0mcheck_finite\u001b[0m \u001b[0;32melse\u001b[0m \u001b[0mnp\u001b[0m\u001b[0;34m.\u001b[0m\u001b[0masarray\u001b[0m\u001b[0;34m\u001b[0m\u001b[0m\n\u001b[0;32m--> 238\u001b[0;31m     \u001b[0ma\u001b[0m \u001b[0;34m=\u001b[0m \u001b[0mtoarray\u001b[0m\u001b[0;34m(\u001b[0m\u001b[0ma\u001b[0m\u001b[0;34m)\u001b[0m\u001b[0;34m\u001b[0m\u001b[0m\n\u001b[0m\u001b[1;32m    239\u001b[0m     \u001b[0;32mif\u001b[0m \u001b[0;32mnot\u001b[0m \u001b[0mobjects_ok\u001b[0m\u001b[0;34m:\u001b[0m\u001b[0;34m\u001b[0m\u001b[0m\n\u001b[1;32m    240\u001b[0m         \u001b[0;32mif\u001b[0m \u001b[0ma\u001b[0m\u001b[0;34m.\u001b[0m\u001b[0mdtype\u001b[0m \u001b[0;32mis\u001b[0m \u001b[0mnp\u001b[0m\u001b[0;34m.\u001b[0m\u001b[0mdtype\u001b[0m\u001b[0;34m(\u001b[0m\u001b[0;34m'O'\u001b[0m\u001b[0;34m)\u001b[0m\u001b[0;34m:\u001b[0m\u001b[0;34m\u001b[0m\u001b[0m\n",
      "\u001b[0;32m/usr/local/lib/python3.7/site-packages/numpy/lib/function_base.py\u001b[0m in \u001b[0;36masarray_chkfinite\u001b[0;34m(a, dtype, order)\u001b[0m\n\u001b[1;32m    459\u001b[0m     \u001b[0;32mif\u001b[0m \u001b[0ma\u001b[0m\u001b[0;34m.\u001b[0m\u001b[0mdtype\u001b[0m\u001b[0;34m.\u001b[0m\u001b[0mchar\u001b[0m \u001b[0;32min\u001b[0m \u001b[0mtypecodes\u001b[0m\u001b[0;34m[\u001b[0m\u001b[0;34m'AllFloat'\u001b[0m\u001b[0;34m]\u001b[0m \u001b[0;32mand\u001b[0m \u001b[0;32mnot\u001b[0m \u001b[0mnp\u001b[0m\u001b[0;34m.\u001b[0m\u001b[0misfinite\u001b[0m\u001b[0;34m(\u001b[0m\u001b[0ma\u001b[0m\u001b[0;34m)\u001b[0m\u001b[0;34m.\u001b[0m\u001b[0mall\u001b[0m\u001b[0;34m(\u001b[0m\u001b[0;34m)\u001b[0m\u001b[0;34m:\u001b[0m\u001b[0;34m\u001b[0m\u001b[0m\n\u001b[1;32m    460\u001b[0m         raise ValueError(\n\u001b[0;32m--> 461\u001b[0;31m             \"array must not contain infs or NaNs\")\n\u001b[0m\u001b[1;32m    462\u001b[0m     \u001b[0;32mreturn\u001b[0m \u001b[0ma\u001b[0m\u001b[0;34m\u001b[0m\u001b[0m\n\u001b[1;32m    463\u001b[0m \u001b[0;34m\u001b[0m\u001b[0m\n",
      "\u001b[0;31mValueError\u001b[0m: array must not contain infs or NaNs"
     ]
    },
    {
     "data": {
      "image/png": "[encoded data removed]",
      "text/plain": [
       "<Figure size 432x288 with 1 Axes>"
      ]
     },
     "metadata": {},
     "output_type": "display_data"
    }
   ],
   "source": [
    "X = SolveBurger(201,201,0.5,0.001,\"conservative_newton\",0)\n",
    "Plotting(X,201,201)\n",
    "X = SolveBurger(201,51,0.5,0.001,\"conservative_newton\",1)\n",
    "Plotting(X,201,51)\n",
    "### the ball of convergence depends on the value of theta, fully implicit is the"
   ]
  },
  {
   "cell_type": "code",
   "execution_count": null,
   "metadata": {},
   "outputs": [],
   "source": [
    "X = SolveBurger(201,151,0.5,0.001,\"conservative_ftcs\",0) \n",
    "Plotting(X,201,151)"
   ]
  },
  {
   "cell_type": "code",
   "execution_count": null,
   "metadata": {},
   "outputs": [],
   "source": [
    "X = SolveBurger(101,201,0.5,0.001,\"conservative_newton\",1)\n",
    "Y = SolveBurger(101,201,0.5,0.001,\"newton\",1)\n",
    "C = X-Y\n",
    "D = 0.5*(X+Y)\n",
    "plt.figure(1)\n",
    "Plotting(C,101,201)\n",
    "plt.figure(2)\n",
    "Plotting(X,101,201)\n",
    "Plotting(Y,101,201)"
   ]
  },
  {
   "cell_type": "code",
   "execution_count": 60,
   "metadata": {},
   "outputs": [],
   "source": [
    "#•Stability analysis for theta = 0 cases remembering whether vonn neuman annalisis works"
   ]
  },
  {
   "cell_type": "code",
   "execution_count": 61,
   "metadata": {},
   "outputs": [
    {
     "name": "stderr",
     "output_type": "stream",
     "text": [
      "/usr/local/lib/python3.7/site-packages/ipykernel_launcher.py:20: RuntimeWarning: overflow encountered in double_scalars\n",
      "/usr/local/lib/python3.7/site-packages/ipykernel_launcher.py:20: RuntimeWarning: invalid value encountered in double_scalars\n"
     ]
    },
    {
     "name": "stdout",
     "output_type": "stream",
     "text": [
      "warning, inverting matrix unnessicarily\n",
      "warning, inverting matrix unnessicarily\n",
      "warning, inverting matrix unnessicarily\n",
      "warning, inverting matrix unnessicarily\n",
      "warning, inverting matrix unnessicarily\n",
      "warning, inverting matrix unnessicarily\n",
      "warning, inverting matrix unnessicarily\n",
      "warning, inverting matrix unnessicarily\n",
      "warning, inverting matrix unnessicarily\n",
      "warning, inverting matrix unnessicarily\n",
      "warning, inverting matrix unnessicarily\n",
      "warning, inverting matrix unnessicarily\n",
      "warning, inverting matrix unnessicarily\n",
      "warning, inverting matrix unnessicarily\n",
      "warning, inverting matrix unnessicarily\n",
      "warning, inverting matrix unnessicarily\n",
      "warning, inverting matrix unnessicarily\n",
      "warning, inverting matrix unnessicarily\n",
      "warning, inverting matrix unnessicarily\n",
      "warning, inverting matrix unnessicarily\n",
      "warning, inverting matrix unnessicarily\n",
      "warning, inverting matrix unnessicarily\n",
      "warning, inverting matrix unnessicarily\n",
      "warning, inverting matrix unnessicarily\n",
      "warning, inverting matrix unnessicarily\n",
      "warning, inverting matrix unnessicarily\n",
      "warning, inverting matrix unnessicarily\n",
      "warning, inverting matrix unnessicarily\n",
      "warning, inverting matrix unnessicarily\n",
      "warning, inverting matrix unnessicarily\n",
      "warning, inverting matrix unnessicarily\n",
      "warning, inverting matrix unnessicarily\n",
      "warning, inverting matrix unnessicarily\n",
      "warning, inverting matrix unnessicarily\n",
      "warning, inverting matrix unnessicarily\n",
      "warning, inverting matrix unnessicarily\n",
      "warning, inverting matrix unnessicarily\n",
      "warning, inverting matrix unnessicarily\n",
      "warning, inverting matrix unnessicarily\n",
      "warning, inverting matrix unnessicarily\n",
      "warning, inverting matrix unnessicarily\n",
      "warning, inverting matrix unnessicarily\n",
      "warning, inverting matrix unnessicarily\n",
      "warning, inverting matrix unnessicarily\n",
      "warning, inverting matrix unnessicarily\n",
      "warning, inverting matrix unnessicarily\n",
      "warning, inverting matrix unnessicarily\n",
      "warning, inverting matrix unnessicarily\n",
      "warning, inverting matrix unnessicarily\n",
      "warning, inverting matrix unnessicarily\n",
      "warning, inverting matrix unnessicarily\n",
      "warning, inverting matrix unnessicarily\n",
      "warning, inverting matrix unnessicarily\n",
      "warning, inverting matrix unnessicarily\n",
      "warning, inverting matrix unnessicarily\n",
      "warning, inverting matrix unnessicarily\n",
      "warning, inverting matrix unnessicarily\n",
      "warning, inverting matrix unnessicarily\n",
      "warning, inverting matrix unnessicarily\n",
      "warning, inverting matrix unnessicarily\n",
      "warning, inverting matrix unnessicarily\n",
      "warning, inverting matrix unnessicarily\n",
      "warning, inverting matrix unnessicarily\n",
      "warning, inverting matrix unnessicarily\n",
      "warning, inverting matrix unnessicarily\n",
      "warning, inverting matrix unnessicarily\n",
      "warning, inverting matrix unnessicarily\n",
      "warning, inverting matrix unnessicarily\n",
      "warning, inverting matrix unnessicarily\n",
      "warning, inverting matrix unnessicarily\n",
      "warning, inverting matrix unnessicarily\n",
      "warning, inverting matrix unnessicarily\n",
      "warning, inverting matrix unnessicarily\n",
      "warning, inverting matrix unnessicarily\n",
      "warning, inverting matrix unnessicarily\n",
      "warning, inverting matrix unnessicarily\n",
      "warning, inverting matrix unnessicarily\n",
      "warning, inverting matrix unnessicarily\n",
      "warning, inverting matrix unnessicarily\n",
      "warning, inverting matrix unnessicarily\n",
      "warning, inverting matrix unnessicarily\n",
      "warning, inverting matrix unnessicarily\n",
      "warning, inverting matrix unnessicarily\n",
      "warning, inverting matrix unnessicarily\n",
      "warning, inverting matrix unnessicarily\n",
      "warning, inverting matrix unnessicarily\n",
      "warning, inverting matrix unnessicarily\n",
      "warning, inverting matrix unnessicarily\n",
      "warning, inverting matrix unnessicarily\n",
      "warning, inverting matrix unnessicarily\n"
     ]
    },
    {
     "data": {
      "image/png": "[encoded data removed]",
      "text/plain": [
       "<Figure size 432x288 with 1 Axes>"
      ]
     },
     "metadata": {},
     "output_type": "display_data"
    }
   ],
   "source": [
    "#analysis for increasing spatial resolution at a further timestep\n",
    "w = 500\n",
    "plt.figure(1)\n",
    "nx = 1*w+11\n",
    "nt = 601\n",
    "AA = SolveBurger(nx,nt,0.5,0.01,\"conservative_ftcs\",0)\n",
    "vec = AA[nt-1,:]\n",
    "yy = np.linalg.norm(vec,2)/nx**0.5\n",
    "y = np.linspace(0,1,100)\n",
    "y[:] = yy\n",
    "plt.plot(y)\n",
    "\n",
    "for w in range(90):\n",
    "    plt.figure(1)\n",
    "    nx = 1*w+5\n",
    "    nt = 601\n",
    "    AA = SolveBurger(nx,nt,0.5,0.01,\"conservative_ftcs\",0)\n",
    "    vec = AA[nt-1,:]\n",
    "    yy = np.linalg.norm(vec,2)/nx**0.5\n",
    "    plt.scatter(nx,yy,color='red')\n",
    "    plt.figure(1)\n",
    "    nx = 1*w+5\n",
    "    nt = 601\n",
    "    AA = SolveBurger(nx,nt,0.5,0.01,\"picard\",0)\n",
    "    vec = AA[nt-1,:]\n",
    "    yy = np.linalg.norm(vec,2)/nx**0.5\n",
    "    plt.scatter(nx,yy,color='blue')\n",
    "### can i see quadratic convergence in space up until gibbslike \n",
    "###phenomena dominate? ###\n",
    "\n",
    "### REAL PROBLEM ###\n",
    "### higher spatial discretisation increases cost of implicit methods\n",
    "### so explicit may actually be the way to go... "
   ]
  },
  {
   "cell_type": "code",
   "execution_count": 43,
   "metadata": {},
   "outputs": [
    {
     "data": {
      "image/png": "[encoded data removed]",
      "text/plain": [
       "<Figure size 432x288 with 1 Axes>"
      ]
     },
     "metadata": {},
     "output_type": "display_data"
    }
   ],
   "source": [
    "for w in range(50):\n",
    "    nx = 1*w+11\n",
    "    x = np.linspace(0,1,nx)\n",
    "    nt = 601\n",
    "    AA = SolveBurger(nx,nt,0.5,0.001,\"conservative_ftcs\",0)\n",
    "    vec = AA[nt-1,:]\n",
    "    plt.plot(x,vec)\n",
    "    \n",
    "### We have the effect of spatial discretisation on the final time-step"
   ]
  },
  {
   "cell_type": "code",
   "execution_count": null,
   "metadata": {},
   "outputs": [],
   "source": []
  },
  {
   "cell_type": "code",
   "execution_count": null,
   "metadata": {},
   "outputs": [],
   "source": []
  },
  {
   "cell_type": "code",
   "execution_count": null,
   "metadata": {},
   "outputs": [],
   "source": []
  }
 ],
 "metadata": {
  "kernelspec": {
   "display_name": "Python 3",
   "language": "python",
   "name": "python3"
  },
  "language_info": {
   "codemirror_mode": {
    "name": "ipython",
    "version": 3
   },
   "file_extension": ".py",
   "mimetype": "text/x-python",
   "name": "python",
   "nbconvert_exporter": "python",
   "pygments_lexer": "ipython3",
   "version": "3.7.0"
  }
 },
 "nbformat": 4,
 "nbformat_minor": 2
}
